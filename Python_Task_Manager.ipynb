{
 "cells": [
  {
   "cell_type": "code",
   "execution_count": null,
   "id": "971e011c-f293-48a1-a37e-23d57f0eb5f4",
   "metadata": {},
   "outputs": [
    {
     "name": "stdout",
     "output_type": "stream",
     "text": [
      "\n",
      "1. Add Task\n",
      "2. View Tasks\n",
      "3. Delete Task\n",
      "4. Complete Task\n",
      "5. Save and Exit\n",
      "\n"
     ]
    }
   ],
   "source": [
    "import json\n",
    "\n",
    "class Task:\n",
    "    def __init__(self, id, title, completed=False):\n",
    "        self.id = id\n",
    "        self.title = title\n",
    "        self.completed = completed\n",
    "\n",
    "    def __repr__(self):\n",
    "        status = '✓' if self.completed else '✗'\n",
    "        return f\"[{status}] {self.id}: {self.title}\"\n",
    "\n",
    "tasks = []\n",
    "\n",
    "def add_task(title):\n",
    "    task_id = len(tasks) + 1\n",
    "    task = Task(task_id, title)\n",
    "    tasks.append(task)\n",
    "\n",
    "def view_tasks():\n",
    "    for task in tasks:\n",
    "        print(task)\n",
    "\n",
    "def delete_task(task_id):\n",
    "    global tasks\n",
    "    tasks = [task for task in tasks if task.id != task_id]\n",
    "\n",
    "def mark_task_complete(task_id):\n",
    "    for task in tasks:\n",
    "        if task.id == task_id:\n",
    "            task.completed = True\n",
    "            break\n",
    "\n",
    "def save_tasks(filename=\"tasks.json\"):\n",
    "    with open(filename, 'w') as file:\n",
    "        json.dump([task.__dict__ for task in tasks], file)\n",
    "\n",
    "def load_tasks(filename=\"tasks.json\"):\n",
    "    global tasks\n",
    "    try:\n",
    "        with open(filename, 'r') as file:\n",
    "            tasks_data = json.load(file)\n",
    "            tasks = [Task(**data) for data in tasks_data]\n",
    "    except FileNotFoundError:\n",
    "        tasks = []\n",
    "\n",
    "def main():\n",
    "    load_tasks()\n",
    "    while True:\n",
    "        print(\"\\n1. Add Task\\n2. View Tasks\\n3. Delete Task\\n4. Complete Task\\n5. Save and Exit\\n\")\n",
    "        choice = input(\"Choose an option: \")\n",
    "\n",
    "        if choice == '1':\n",
    "            title = input(\"Enter task title: \")\n",
    "            add_task(title)\n",
    "        elif choice == '2':\n",
    "            view_tasks()\n",
    "        elif choice == '3':\n",
    "            task_id = int(input(\"Enter task ID to delete: \"))\n",
    "            delete_task(task_id)\n",
    "        elif choice == '4':\n",
    "            task_id = int(input(\"Enter task ID to mark complete: \"))\n",
    "            mark_task_complete(task_id)\n",
    "        elif choice == '5':\n",
    "            save_tasks()\n",
    "            break\n",
    "        else:\n",
    "            print(\"Invalid choice. Please try again.\")\n",
    "\n",
    "if __name__ == \"__main__\":\n",
    "    main()\n"
   ]
  }
 ],
 "metadata": {
  "kernelspec": {
   "display_name": "Python 3 (ipykernel)",
   "language": "python",
   "name": "python3"
  },
  "language_info": {
   "codemirror_mode": {
    "name": "ipython",
    "version": 3
   },
   "file_extension": ".py",
   "mimetype": "text/x-python",
   "name": "python",
   "nbconvert_exporter": "python",
   "pygments_lexer": "ipython3",
   "version": "3.11.7"
  }
 },
 "nbformat": 4,
 "nbformat_minor": 5
}
